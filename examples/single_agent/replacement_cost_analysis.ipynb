{
 "cells": [
  {
   "cell_type": "markdown",
   "id": "5c20bd3e",
   "metadata": {},
   "source": [
    "# Analysis of results from experimental campaign\n",
    "\n",
    "This notebook explores and visualize the results on `MicroGridEnv` adopting different strategies. The results are retrieved from some `json`files employed to store the outcome from the testing of each tested algorithm. <br>\n",
    "The plots shown here have been also used within the paper."
   ]
  },
  {
   "cell_type": "code",
   "execution_count": 1,
   "id": "29e749f9",
   "metadata": {
    "scrolled": true
   },
   "outputs": [
    {
     "name": "stdout",
     "output_type": "stream",
     "text": [
      "/Users/dave/Library/CloudStorage/OneDrive-PolitecnicodiMilano/PhD/Repositories/ernesto-gym\n"
     ]
    }
   ],
   "source": [
    "%load_ext autoreload\n",
    "%autoreload 2\n",
    "%matplotlib inline\n",
    "%cd ../.."
   ]
  },
  {
   "cell_type": "code",
   "execution_count": 2,
   "id": "751a6aa7",
   "metadata": {},
   "outputs": [],
   "source": [
    "import matplotlib.pyplot as plt\n",
    "from matplotlib.patches import Patch\n",
    "import seaborn as sns\n",
    "import numpy as np\n",
    "import pandas as pd\n",
    "from tqdm import tqdm \n",
    "from datetime import datetime\n",
    "import os\n",
    "import orjson as json\n",
    "from pathlib import Path\n",
    "from collections import OrderedDict\n",
    "\n",
    "from ernestogym.envs import MicroGridEnv\n",
    "from ernestogym.envs.single_agent.utils import parameter_generator\n",
    "\n",
    "sns.set_style('darkgrid')\n",
    "plot_colors = sns.color_palette()\n",
    "sns.set(font_scale=1.4)\n",
    "\n",
    "params = {\"ytick.color\" : \"black\",\n",
    "          \"xtick.color\" : \"black\",\n",
    "          \"axes.labelcolor\" : \"black\",\n",
    "          #\"axes.edgecolor\" : \"black\",\n",
    "          \"text.usetex\" : True,\n",
    "          \"text.latex.preamble\": r'\\usepackage{amsmath} \\usepackage{amssymb}',\n",
    "          \"font.family\" : \"serif\",\n",
    "          \"font.serif\" : [\"Computer Modern Serif\"],          \n",
    "          \"font.size\": 18\n",
    "}\n",
    "plt.rcParams.update(params)\n",
    "\n",
    "plots_dir = 'examples/single_agent/plots/ijcnn25'\n",
    "os.makedirs(plots_dir, exist_ok=True)"
   ]
  },
  {
   "cell_type": "code",
   "execution_count": 66,
   "id": "eee7663c",
   "metadata": {},
   "outputs": [],
   "source": [
    "alg_color = OrderedDict({\n",
    "    'random': plot_colors[0],\n",
    "    'only_market': plot_colors[1],\n",
    "    'battery_first': plot_colors[2],\n",
    "    '20-80': plot_colors[3],\n",
    "    '50-50': plot_colors[4],\n",
    "    '80-20': plot_colors[5],\n",
    "    'ppo': plot_colors[0],\n",
    "    'a2c': plot_colors[6],\n",
    "    'sac': plot_colors[7],\n",
    "    'ppo_fixed_market_tamb': plot_colors[6],\n",
    "    'ppo_fixed_tamb': plot_colors[7],\n",
    "    'ppo_25eps': plot_colors[8],\n",
    "    'ppo-no_retrain': plot_colors[9],\n",
    "    'ppo_4-100': plot_colors[7]\n",
    "})\n",
    "\n",
    "alg_markers = OrderedDict({\n",
    "    'random': '.',\n",
    "    'only_market': 'o',\n",
    "    'battery_first': 'v',\n",
    "    '20-80': 's',\n",
    "    '50-50': 'P',\n",
    "    '80-20': 'D',\n",
    "    'ppo': '*',\n",
    "    'a2c': '+',\n",
    "    'sac': '<',\n",
    "    'ppo_fixed_market_tamb': '+',\n",
    "    'ppo_fixed_tamb': '>',\n",
    "    'ppo_25eps': '',\n",
    "    'ppo-no_retrain': '',\n",
    "    'ppo_4-100': ''\n",
    "})"
   ]
  },
  {
   "cell_type": "code",
   "execution_count": 67,
   "id": "8acd94d5-3b0c-46fe-b97a-51b1ad289fb4",
   "metadata": {},
   "outputs": [],
   "source": [
    "file_names = {\n",
    "    \"REPLACEMENT_COST_200\": 200,\n",
    "    \"REPLACEMENT_COST_1000\": 1000,\n",
    "    \"BEST-IJCNN_2015-2020_deg_new-norm_clip0_1_socmax_gamma0_99_new-market\": 3000,\n",
    "    \"REPLACEMENT_COST_5000\": 5000,\n",
    "    \"REPLACEMENT_COST_10000\": 10000,\n",
    "}"
   ]
  },
  {
   "cell_type": "code",
   "execution_count": 68,
   "id": "2d952761",
   "metadata": {},
   "outputs": [],
   "source": [
    "folder = \"./logs/\""
   ]
  },
  {
   "cell_type": "code",
   "execution_count": 103,
   "id": "af70d391-64b0-4970-9bca-ea34d1e343bd",
   "metadata": {},
   "outputs": [],
   "source": [
    "algs = ['battery_first', 'only_market', 'ppo_fixed_market_tamb', 'ppo',]# 'ppo_fixed_tamb']"
   ]
  },
  {
   "cell_type": "code",
   "execution_count": 70,
   "id": "fa98b392",
   "metadata": {},
   "outputs": [],
   "source": [
    "exp_folders = list(file_names.keys())"
   ]
  },
  {
   "cell_type": "code",
   "execution_count": 71,
   "id": "7d412d3c",
   "metadata": {},
   "outputs": [],
   "source": [
    "def load_results():\n",
    "    res = {}\n",
    "    \n",
    "    for exp_file in tqdm(exp_folders):\n",
    "        res[file_names[exp_file]] = {}\n",
    "        \n",
    "        for alg in algs:\n",
    "            alg_res = []\n",
    "            results_folder = folder + exp_file + '/results/' + alg + '/'\n",
    "            tests_files = [f for f in os.listdir(results_folder)]\n",
    "\n",
    "            for file in tests_files:\n",
    "                f = open (results_folder + file, \"r\")\n",
    "                data = json.loads(f.read())\n",
    "                alg_res.append(data)\n",
    "            \n",
    "            res[file_names[exp_file]][alg] = alg_res\n",
    "    return res"
   ]
  },
  {
   "cell_type": "code",
   "execution_count": 72,
   "id": "b0717a5d",
   "metadata": {},
   "outputs": [
    {
     "name": "stderr",
     "output_type": "stream",
     "text": [
      "100%|████████████████████████████████████████████████████████████████████████████████████████████████████████████████████████████████████| 5/5 [00:20<00:00,  4.13s/it]\n"
     ]
    }
   ],
   "source": [
    "res_dict = load_results()"
   ]
  },
  {
   "cell_type": "code",
   "execution_count": 73,
   "id": "1cc55b60-99ce-43fc-9359-dcf4cbbec1f4",
   "metadata": {},
   "outputs": [
    {
     "data": {
      "text/plain": [
       "dict_keys([200, 1000, 3000, 5000, 10000])"
      ]
     },
     "execution_count": 73,
     "metadata": {},
     "output_type": "execute_result"
    }
   ],
   "source": [
    "res_dict.keys()"
   ]
  },
  {
   "cell_type": "code",
   "execution_count": 74,
   "id": "2ae9664d",
   "metadata": {},
   "outputs": [],
   "source": [
    "alg_names = {\n",
    "    'a2c': 'A2C',\n",
    "    'battery_first': 'BF',\n",
    "    '20-80': '20-80',\n",
    "    'random': 'Random',\n",
    "    'ppo': r'RL$^{\\star}$',\n",
    "    '50-50': '50-50',\n",
    "    '80-20': '80-20',\n",
    "    'only_market': 'OG',\n",
    "    'sac': 'SAC',\n",
    "    'ppo_fixed_market_tamb': 'RL-base',\n",
    "    'ppo_fixed_tamb': 'RL-base+',\n",
    "    'ppo_25eps': 'PPO_25EPS',\n",
    "    'ppo-no_retrain': 'PPO_NO-RETRAIN',\n",
    "    'ppo_4-100': 'PPO_4envs-100eps'\n",
    "}"
   ]
  },
  {
   "cell_type": "code",
   "execution_count": 75,
   "id": "62732f7c",
   "metadata": {},
   "outputs": [],
   "source": [
    "def savefig(fig: plt.Figure, filename: str, **kwargs) -> None:\n",
    "    if not do_not_save:\n",
    "        save_path = os.path.join(plots_dir, filename)\n",
    "        fig.savefig(save_path, dpi=300, bbox_inches='tight', **kwargs)"
   ]
  },
  {
   "cell_type": "code",
   "execution_count": 100,
   "id": "8cf800f9-1cdb-44be-83f8-24f9c1114f5e",
   "metadata": {},
   "outputs": [],
   "source": [
    "do_not_save = False"
   ]
  },
  {
   "cell_type": "markdown",
   "id": "cdda671d",
   "metadata": {},
   "source": [
    "## PLOTS"
   ]
  },
  {
   "cell_type": "code",
   "execution_count": 87,
   "id": "282a91bd-78d1-40d7-846d-20416fc6982c",
   "metadata": {},
   "outputs": [],
   "source": [
    "def compute_means():\n",
    "    means_dict = {}\n",
    "    \n",
    "    for key, values in res_dict.items():\n",
    "        means_dict[key] = {}\n",
    "        profiles = list(range(len(values['only_market'])))\n",
    "        \n",
    "        for i, alg in enumerate(algs):\n",
    "            returns = [np.sum(values[alg][i]['pure_reward']['r_trad']) + np.sum(values[alg][i]['pure_reward']['r_deg']) for i in profiles]\n",
    "            means_dict[key][alg] = np.mean(returns)\n",
    "            \n",
    "    return means_dict   "
   ]
  },
  {
   "cell_type": "code",
   "execution_count": 88,
   "id": "94b7551e-a18a-466e-a596-f07292f58743",
   "metadata": {},
   "outputs": [],
   "source": [
    "def compute_cis():\n",
    "    ci_dict = {}\n",
    "    \n",
    "    for key, values in res_dict.items():\n",
    "        ci_dict[key] = {}\n",
    "        profiles = list(range(len(values['only_market'])))\n",
    "        \n",
    "        for i, alg in enumerate(algs):\n",
    "            returns = [np.sum(values[alg][i]['pure_reward']['r_trad']) + np.sum(values[alg][i]['pure_reward']['r_deg']) for i in profiles]\n",
    "            ci_dict[key][alg] = 1.96 * np.std(returns) / np.sqrt(len(profiles))\n",
    "            \n",
    "    return ci_dict   "
   ]
  },
  {
   "cell_type": "code",
   "execution_count": 89,
   "id": "cb679096-91e8-4409-8af3-9ef2bbfd3db5",
   "metadata": {},
   "outputs": [],
   "source": [
    "def compute_returns(): \n",
    "    returns_dict = {}\n",
    "    \n",
    "    for key, values in res_dict.items():\n",
    "        returns_dict[key] = {}\n",
    "        profiles = list(range(len(values['only_market'])))\n",
    "        \n",
    "        for i, alg in enumerate(algs):\n",
    "            returns = [np.sum(values[alg][i]['pure_reward']['r_trad']) + np.sum(values[alg][i]['pure_reward']['r_deg']) for i in profiles]\n",
    "            returns_dict[key][alg] = returns\n",
    "    \n",
    "    return returns_dict   "
   ]
  },
  {
   "cell_type": "code",
   "execution_count": 90,
   "id": "647646cf-b973-4adf-b6be-9111348196b0",
   "metadata": {},
   "outputs": [],
   "source": [
    "means_dict = compute_means()"
   ]
  },
  {
   "cell_type": "code",
   "execution_count": 91,
   "id": "f6ca7c39-caff-4a2a-aa10-83beceae2287",
   "metadata": {},
   "outputs": [],
   "source": [
    "means_dict = dict(sorted(means_dict.items()))"
   ]
  },
  {
   "cell_type": "code",
   "execution_count": 92,
   "id": "9387ecc3-ddb7-4d5f-bef8-527316d7b93a",
   "metadata": {},
   "outputs": [
    {
     "data": {
      "text/plain": [
       "{200: {'battery_first': -12.73946909694457,\n",
       "  'only_market': -131.20148474153808,\n",
       "  'ppo': -58.95763013171387,\n",
       "  'ppo_fixed_market_tamb': -130.00524404243177},\n",
       " 1000: {'battery_first': -110.98124199359692,\n",
       "  'only_market': -189.1803458326941,\n",
       "  'ppo': -125.28384696561626,\n",
       "  'ppo_fixed_market_tamb': -175.91842818792674},\n",
       " 3000: {'battery_first': -356.5856742352278,\n",
       "  'only_market': -334.1274985605842,\n",
       "  'ppo': -312.65244361716753,\n",
       "  'ppo_fixed_market_tamb': -322.6810201933131},\n",
       " 5000: {'battery_first': -602.1901064768588,\n",
       "  'only_market': -479.0746512884742,\n",
       "  'ppo': -479.3197131599976,\n",
       "  'ppo_fixed_market_tamb': -670.2141268125079},\n",
       " 10000: {'battery_first': -1216.201187080936,\n",
       "  'only_market': -841.4425331081994,\n",
       "  'ppo': -851.6578213606788,\n",
       "  'ppo_fixed_market_tamb': -841.4425331081994}}"
      ]
     },
     "execution_count": 92,
     "metadata": {},
     "output_type": "execute_result"
    }
   ],
   "source": [
    "means_dict"
   ]
  },
  {
   "cell_type": "code",
   "execution_count": 93,
   "id": "fd06fb97-3865-4841-be96-6832499a2c0d",
   "metadata": {},
   "outputs": [],
   "source": [
    "ci_dict = compute_cis()"
   ]
  },
  {
   "cell_type": "code",
   "execution_count": 94,
   "id": "f5b42444-9044-41ae-a587-43060e6e17da",
   "metadata": {},
   "outputs": [],
   "source": [
    "ci_dict = dict(sorted(ci_dict.items()))"
   ]
  },
  {
   "cell_type": "code",
   "execution_count": 95,
   "id": "0d570a1f-44fd-4839-a782-a9d6daea3a52",
   "metadata": {},
   "outputs": [
    {
     "data": {
      "text/plain": [
       "{200: {'battery_first': 32.04042375562921,\n",
       "  'only_market': 42.680229689006836,\n",
       "  'ppo': 41.27526797386678,\n",
       "  'ppo_fixed_market_tamb': 42.729802920603404},\n",
       " 1000: {'battery_first': 30.181020636308165,\n",
       "  'only_market': 42.68022968900684,\n",
       "  'ppo': 37.196409663638306,\n",
       "  'ppo_fixed_market_tamb': 42.79379191849692},\n",
       " 3000: {'battery_first': 25.602973089094668,\n",
       "  'only_market': 42.68022968900684,\n",
       "  'ppo': 34.54882976292551,\n",
       "  'ppo_fixed_market_tamb': 39.225105965785346},\n",
       " 5000: {'battery_first': 21.17769758752303,\n",
       "  'only_market': 42.680229689006836,\n",
       "  'ppo': 41.92108686791546,\n",
       "  'ppo_fixed_market_tamb': 25.86857590802815},\n",
       " 10000: {'battery_first': 11.939255496486547,\n",
       "  'only_market': 42.68022968900685,\n",
       "  'ppo': 41.77054977518842,\n",
       "  'ppo_fixed_market_tamb': 42.68022968900685}}"
      ]
     },
     "execution_count": 95,
     "metadata": {},
     "output_type": "execute_result"
    }
   ],
   "source": [
    "ci_dict"
   ]
  },
  {
   "cell_type": "code",
   "execution_count": 96,
   "id": "eea1c502-6b09-4fd9-8111-02296274e5e4",
   "metadata": {},
   "outputs": [],
   "source": [
    "returns_dict = compute_returns()"
   ]
  },
  {
   "cell_type": "code",
   "execution_count": 97,
   "id": "367c594d-6b87-4b93-85eb-d51ff69f0650",
   "metadata": {},
   "outputs": [],
   "source": [
    "returns_dict = dict(sorted(returns_dict.items()))"
   ]
  },
  {
   "cell_type": "code",
   "execution_count": 104,
   "id": "08358c0f-1fdc-417f-a03e-072729625b74",
   "metadata": {},
   "outputs": [],
   "source": [
    "def plot_dichotomy_analysis():\n",
    "    fig, ax = plt.subplots(figsize=(10, 4), tight_layout=True)\n",
    "    patches = []\n",
    "    \n",
    "    for alg in algs:\n",
    "        patches.append(Patch(facecolor=alg_color[alg], alpha=0.8, edgecolor=alg_color[alg], label=alg_names[alg]))\n",
    "        \n",
    "        y = np.array([means_dict[key][alg] for key in means_dict.keys()])\n",
    "        ci = np.array([ci_dict[key][alg] for key in ci_dict.keys()])\n",
    "        \n",
    "        #ax.errorbar(x=list(means_dict.keys()), y=y, yerr=ci, color=alg_color[alg], ls='-', lw=1.5, marker='.', capsize=5, capthick=1)\n",
    "        ax.plot(list(means_dict.keys()), y, color=alg_color[alg], ls='-', lw=1.5, marker=alg_markers[alg])\n",
    "        #ax.fill_between(list(ci_dict.keys()), y+ci, y-ci, color=alg_color[alg], alpha=0.1)\n",
    "    ax.set(ylabel=r'$\\widehat{R}_\\mathcal{T}\\,(\\mathfrak{U})$', \n",
    "           xlabel=r'$\\mathcal{R}$',\n",
    "           xticks=list(means_dict.keys())) \n",
    "    ax.legend(handles=patches, ncols=[2,2])\n",
    "\n",
    "    savefig(fig, filename='replacement_cost_analysis.pdf')\n",
    "    savefig(fig, filename='replacement_cost_analysis.png')"
   ]
  },
  {
   "cell_type": "code",
   "execution_count": 105,
   "id": "29241092-8bd6-4129-bcce-06352777061a",
   "metadata": {},
   "outputs": [
    {
     "data": {
      "image/png": "[encoded data removed]",
      "text/plain": [
       "<Figure size 1000x400 with 1 Axes>"
      ]
     },
     "metadata": {},
     "output_type": "display_data"
    }
   ],
   "source": [
    "plot_dichotomy_analysis()"
   ]
  },
  {
   "cell_type": "code",
   "execution_count": null,
   "id": "507ae1b5-acb1-4e27-97ab-7a96aec31b01",
   "metadata": {},
   "outputs": [],
   "source": []
  },
  {
   "cell_type": "code",
   "execution_count": null,
   "id": "5f4c3368-1e47-48e3-83ca-1e9fff31c09a",
   "metadata": {},
   "outputs": [],
   "source": []
  },
  {
   "cell_type": "code",
   "execution_count": null,
   "id": "edd1290a-aac8-4a07-ac19-4c16a0a3ea04",
   "metadata": {},
   "outputs": [],
   "source": []
  },
  {
   "cell_type": "code",
   "execution_count": null,
   "id": "b8d86f18-b5a1-47fc-9bdc-fd298c3f8c13",
   "metadata": {},
   "outputs": [],
   "source": []
  },
  {
   "cell_type": "code",
   "execution_count": null,
   "id": "c05b066e-6141-44d5-8928-40bbab32acea",
   "metadata": {},
   "outputs": [],
   "source": []
  },
  {
   "cell_type": "code",
   "execution_count": null,
   "id": "02383c90-6397-4944-9c9c-687d77c05fcd",
   "metadata": {},
   "outputs": [],
   "source": []
  }
 ],
 "metadata": {
  "kernelspec": {
   "display_name": "ernesto-gym",
   "language": "python",
   "name": "ernesto-gym"
  },
  "language_info": {
   "codemirror_mode": {
    "name": "ipython",
    "version": 3
   },
   "file_extension": ".py",
   "mimetype": "text/x-python",
   "name": "python",
   "nbconvert_exporter": "python",
   "pygments_lexer": "ipython3",
   "version": "3.11.8"
  }
 },
 "nbformat": 4,
 "nbformat_minor": 5
}
