{
 "cells": [
  {
   "cell_type": "markdown",
   "id": "c2551241",
   "metadata": {},
   "source": [
    "# Training RL agents with ErNESTO-gym\n",
    "\n",
    "The notebooks provides a simple template to train and save the models of renowned RL agents.<br>\n",
    "Refer to the `testing.ipynb` notebook to test these models and compare them with deterministic strategies."
   ]
  },
  {
   "cell_type": "code",
   "id": "756ffdd3",
   "metadata": {
    "ExecuteTime": {
     "end_time": "2024-12-18T16:15:19.385817Z",
     "start_time": "2024-12-18T16:15:19.315181Z"
    }
   },
   "source": [
    "%load_ext autoreload\n",
    "%autoreload 2\n",
    "%matplotlib inline\n",
    "%cd ../.."
   ],
   "outputs": [
    {
     "name": "stdout",
     "output_type": "stream",
     "text": [
      "C:\\Users\\samue\\PycharmProjects\\ErNESTO-gym\n"
     ]
    }
   ],
   "execution_count": 1
  },
  {
   "cell_type": "code",
   "id": "2f82ead8",
   "metadata": {
    "ExecuteTime": {
     "end_time": "2024-12-18T16:15:20.061168Z",
     "start_time": "2024-12-18T16:15:19.388914Z"
    }
   },
   "source": [
    "import matplotlib.pyplot as plt\n",
    "import seaborn as sns\n",
    "import numpy as np\n",
    "from datetime import datetime\n",
    "from tqdm import tqdm\n",
    "from gymnasium.utils.env_checker import check_env\n",
    "\n",
    "from ernestogym.envs.single_agent.env_different_actions import MicroGridEnvDifferentAction\n",
    "from ernestogym.envs.single_agent.utils import parameter_generator\n",
    "\n",
    "sns.set_style('darkgrid')\n",
    "plot_colors = sns.color_palette()\n",
    "sns.set(font_scale=1.5)"
   ],
   "outputs": [],
   "execution_count": 2
  },
  {
   "cell_type": "code",
   "id": "ae561628",
   "metadata": {
    "ExecuteTime": {
     "end_time": "2024-12-18T16:15:20.236198Z",
     "start_time": "2024-12-18T16:15:20.182880Z"
    }
   },
   "source": [
    "def plot_rewards(timestamps: list, res: dict, reward_type='weighted_reward', sampling_rate=10):\n",
    "    fig, ((ax1), (ax2), (ax3)) = plt.subplots(3, 1, figsize=(12, 9), tight_layout=True)\n",
    "    \n",
    "    trad_list = res[reward_type]['r_trad']   \n",
    "    op_list = res[reward_type]['r_op']     \n",
    "    clip_list = res[reward_type]['r_clip']     \n",
    "    \n",
    "    ax1.plot(timestamps[::sampling_rate], trad_list[::sampling_rate])\n",
    "    ax1.set(xlabel='Samples', ylabel='R_trad')         \n",
    "\n",
    "    ax2.plot(timestamps[::sampling_rate], op_list[::sampling_rate])\n",
    "    ax2.set(xlabel='Samples', ylabel='R_op') \n",
    "\n",
    "    ax3.plot(timestamps[::sampling_rate], clip_list[::sampling_rate])\n",
    "    ax3.set(xlabel='Samples', ylabel='R_clip')        \n",
    "\n",
    "def plot_cum_rewards(timestamps: list, res: dict, reward_type='weighted_reward', sampling_rate=10):\n",
    "    fig, ((ax1), (ax2), (ax3)) = plt.subplots(3, 1, figsize=(12, 9), tight_layout=True)\n",
    "    \n",
    "    trad_list = np.cumsum(res[reward_type]['r_trad'])\n",
    "    op_list = np.cumsum(res[reward_type]['r_op'])\n",
    "    clip_list = np.cumsum(res[reward_type]['r_clip'])     \n",
    "    \n",
    "    ax1.plot(timestamps[::sampling_rate], trad_list[::sampling_rate])\n",
    "    ax1.set(xlabel='Samples', ylabel='R_trad')         \n",
    "\n",
    "    ax2.plot(timestamps[::sampling_rate], op_list[::sampling_rate])\n",
    "    ax2.set(xlabel='Samples', ylabel='R_op') \n",
    "\n",
    "    ax3.plot(timestamps[::sampling_rate], clip_list[::sampling_rate])\n",
    "    ax3.set(xlabel='Samples', ylabel='R_clip')        "
   ],
   "outputs": [],
   "execution_count": 3
  },
  {
   "cell_type": "markdown",
   "id": "2a9efdeb",
   "metadata": {},
   "source": [
    "## Environment Information"
   ]
  },
  {
   "cell_type": "code",
   "id": "da659048",
   "metadata": {
    "ExecuteTime": {
     "end_time": "2024-12-18T16:15:22.218172Z",
     "start_time": "2024-12-18T16:15:20.242080Z"
    }
   },
   "source": [
    "pack_options = \"ernestogym/ernesto/data/battery/pack.yaml\"\n",
    "# ecm = \"ernestogym/ernesto/data/battery/models/electrical/thevenin_pack.yaml\"\n",
    "ecm = \"ernestogym/ernesto/data/battery/models/electrical/thevenin_fading_pack.yaml\"\n",
    "r2c = \"ernestogym/ernesto/data/battery/models/thermal/r2c_thermal_pack.yaml\"\n",
    "bolun = \"ernestogym/ernesto/data/battery/models/aging/bolun_pack.yaml\"\n",
    "# world = \"ernestogym/envs/single_agent/world_deg.yaml\"\n",
    "world = \"ernestogym/envs/single_agent/world_fading.yaml\"\n",
    "\n",
    "params = parameter_generator(\n",
    "    battery_options=pack_options,\n",
    "    electrical_model=ecm,\n",
    "    thermal_model=r2c,\n",
    "    aging_model=bolun,\n",
    "    world_options=world,\n",
    "    use_reward_normalization=True\n",
    "    \n",
    ")"
   ],
   "outputs": [],
   "execution_count": 4
  },
  {
   "cell_type": "code",
   "id": "e292e747",
   "metadata": {
    "scrolled": true,
    "ExecuteTime": {
     "end_time": "2024-12-18T16:15:31.036954Z",
     "start_time": "2024-12-18T16:15:22.230027Z"
    }
   },
   "source": [
    "# Create environment\n",
    "env = MicroGridEnvDifferentAction(settings=params)\n",
    "\n",
    "print('Size of State Space: ', env.observation_space.shape)\n",
    "print('Observation Space: ', env.spaces.keys())\n",
    "print('Size of Action Space: ', env.action_space.shape)\n",
    "print('Min action: ', env.action_space.low)\n",
    "print('Max action: ', env.action_space.high)\n",
    "print('Sample State: ', env.observation_space.sample())\n",
    "print('Sample Action: ', env.action_space.sample())"
   ],
   "outputs": [
    {
     "name": "stdout",
     "output_type": "stream",
     "text": [
      "Size of State Space:  (10,)\n",
      "Observation Space:  odict_keys(['temperature', 'soc', 'demand', 'generation', 'ask', 'bid', 'sin_day_of_year', 'cos_day_of_year', 'sin_seconds_of_day', 'cos_seconds_of_day'])\n",
      "Size of Action Space:  (1,)\n",
      "Min action:  [-2160.]\n",
      "Max action:  [2160.]\n",
      "Sample State:  [ 3.6537601e+02  5.0020391e-01  1.1295903e+00  6.2193835e-01\n",
      "  2.3328312e-02  1.2579015e+00 -8.9241490e-02  4.4242114e-01\n",
      " -4.0517825e-01 -6.2309557e-01]\n",
      "Sample Action:  [-314.18103]\n"
     ]
    }
   ],
   "execution_count": 5
  },
  {
   "cell_type": "markdown",
   "id": "84953099",
   "metadata": {},
   "source": [
    "## Experiment settings"
   ]
  },
  {
   "cell_type": "code",
   "id": "33b1615b",
   "metadata": {
    "ExecuteTime": {
     "end_time": "2024-12-18T16:15:31.099251Z",
     "start_time": "2024-12-18T16:15:31.046373Z"
    }
   },
   "source": [
    "#num_steps = len(env.demand)\n",
    "num_steps = 100000"
   ],
   "outputs": [],
   "execution_count": 6
  },
  {
   "cell_type": "markdown",
   "id": "2cab00ac",
   "metadata": {},
   "source": [
    "## PPO Agent"
   ]
  },
  {
   "cell_type": "code",
   "id": "1a1a882f",
   "metadata": {
    "ExecuteTime": {
     "end_time": "2024-12-18T16:15:33.606629Z",
     "start_time": "2024-12-18T16:15:31.107494Z"
    }
   },
   "source": [
    "from stable_baselines3 import PPO\n",
    "from stable_baselines3.ppo import MlpPolicy\n",
    "from stable_baselines3.common.callbacks import CheckpointCallback"
   ],
   "outputs": [],
   "execution_count": 7
  },
  {
   "cell_type": "code",
   "id": "27f2657a",
   "metadata": {
    "ExecuteTime": {
     "end_time": "2024-12-18T16:15:33.686120Z",
     "start_time": "2024-12-18T16:15:33.615188Z"
    }
   },
   "source": [
    "# Save a checkpoint every 1000 steps\n",
    "checkpoint_callback = CheckpointCallback(\n",
    "    save_freq=num_steps,\n",
    "    save_path=\"./examples/single_agent/models/\",\n",
    "    name_prefix=\"ppo_different_action\",\n",
    "    )"
   ],
   "outputs": [],
   "execution_count": 8
  },
  {
   "cell_type": "code",
   "id": "170df98b",
   "metadata": {
    "ExecuteTime": {
     "end_time": "2024-12-18T16:17:48.164401Z",
     "start_time": "2024-12-18T16:15:33.695570Z"
    }
   },
   "source": [
    "model = PPO(MlpPolicy, env, verbose=False, gamma=0.9)\n",
    "\n",
    "model.learn(total_timesteps=num_steps,\n",
    "            progress_bar=True, \n",
    "            reset_num_timesteps=False,\n",
    "            callback=[checkpoint_callback],\n",
    "            )"
   ],
   "outputs": [
    {
     "data": {
      "text/plain": [
       "C:\\Users\\samue\\PycharmProjects\\ErNESTO-gym\\.venv\\Lib\\site-packages\\rich\\live.py:231: UserWarning: install \n",
       "\"ipywidgets\" for Jupyter support\n",
       "  warnings.warn('install \"ipywidgets\" for Jupyter support')\n"
      ],
      "text/html": [
       "<pre style=\"white-space:pre;overflow-x:auto;line-height:normal;font-family:Menlo,'DejaVu Sans Mono',consolas,'Courier New',monospace\">C:\\Users\\samue\\PycharmProjects\\ErNESTO-gym\\.venv\\Lib\\site-packages\\rich\\live.py:231: UserWarning: install \n",
       "\"ipywidgets\" for Jupyter support\n",
       "  warnings.warn('install \"ipywidgets\" for Jupyter support')\n",
       "</pre>\n"
      ]
     },
     "metadata": {},
     "output_type": "display_data"
    },
    {
     "name": "stdout",
     "output_type": "stream",
     "text": [
      "profile:  52\n"
     ]
    },
    {
     "data": {
      "text/plain": [],
      "text/html": [
       "<pre style=\"white-space:pre;overflow-x:auto;line-height:normal;font-family:Menlo,'DejaVu Sans Mono',consolas,'Courier New',monospace\"></pre>\n"
      ]
     },
     "metadata": {},
     "output_type": "display_data"
    },
    {
     "data": {
      "text/plain": [
       "<stable_baselines3.ppo.ppo.PPO at 0x1935ce0cef0>"
      ]
     },
     "execution_count": 9,
     "metadata": {},
     "output_type": "execute_result"
    }
   ],
   "execution_count": 9
  },
  {
   "cell_type": "markdown",
   "id": "b7689d79",
   "metadata": {},
   "source": [
    "## A2C Agent"
   ]
  },
  {
   "cell_type": "code",
   "id": "b334bfb6",
   "metadata": {
    "ExecuteTime": {
     "end_time": "2024-12-18T16:17:48.293528Z",
     "start_time": "2024-12-18T16:17:48.178227Z"
    }
   },
   "source": [
    "from stable_baselines3 import A2C\n",
    "from stable_baselines3.ppo import MlpPolicy\n",
    "from stable_baselines3.common.callbacks import CheckpointCallback"
   ],
   "outputs": [],
   "execution_count": 10
  },
  {
   "cell_type": "code",
   "id": "15b6aa52",
   "metadata": {
    "ExecuteTime": {
     "end_time": "2024-12-18T16:17:48.403734Z",
     "start_time": "2024-12-18T16:17:48.303188Z"
    }
   },
   "source": [
    "# Save a checkpoint every 1000 steps\n",
    "checkpoint_callback = CheckpointCallback(\n",
    "    save_freq=num_steps,\n",
    "    save_path=\"./examples/single_agent/models/\",\n",
    "    name_prefix=\"a2c_different_action\",\n",
    "    )"
   ],
   "outputs": [],
   "execution_count": 11
  },
  {
   "cell_type": "code",
   "id": "a1010a01",
   "metadata": {
    "ExecuteTime": {
     "end_time": "2024-12-18T16:20:38.168084Z",
     "start_time": "2024-12-18T16:17:48.414103Z"
    }
   },
   "source": [
    "model = A2C(MlpPolicy, env, verbose=False, gamma=0.9)\n",
    "\n",
    "model.learn(total_timesteps=num_steps,\n",
    "            progress_bar=True, \n",
    "            reset_num_timesteps=False,\n",
    "            callback=[checkpoint_callback],\n",
    "            )"
   ],
   "outputs": [
    {
     "name": "stdout",
     "output_type": "stream",
     "text": [
      "profile:  5\n"
     ]
    },
    {
     "data": {
      "text/plain": [
       "C:\\Users\\samue\\PycharmProjects\\ErNESTO-gym\\.venv\\Lib\\site-packages\\rich\\live.py:231: UserWarning: install \n",
       "\"ipywidgets\" for Jupyter support\n",
       "  warnings.warn('install \"ipywidgets\" for Jupyter support')\n"
      ],
      "text/html": [
       "<pre style=\"white-space:pre;overflow-x:auto;line-height:normal;font-family:Menlo,'DejaVu Sans Mono',consolas,'Courier New',monospace\">C:\\Users\\samue\\PycharmProjects\\ErNESTO-gym\\.venv\\Lib\\site-packages\\rich\\live.py:231: UserWarning: install \n",
       "\"ipywidgets\" for Jupyter support\n",
       "  warnings.warn('install \"ipywidgets\" for Jupyter support')\n",
       "</pre>\n"
      ]
     },
     "metadata": {},
     "output_type": "display_data"
    },
    {
     "data": {
      "text/plain": [],
      "text/html": [
       "<pre style=\"white-space:pre;overflow-x:auto;line-height:normal;font-family:Menlo,'DejaVu Sans Mono',consolas,'Courier New',monospace\"></pre>\n"
      ]
     },
     "metadata": {},
     "output_type": "display_data"
    },
    {
     "data": {
      "text/plain": [
       "<stable_baselines3.a2c.a2c.A2C at 0x19394eed130>"
      ]
     },
     "execution_count": 12,
     "metadata": {},
     "output_type": "execute_result"
    }
   ],
   "execution_count": 12
  },
  {
   "cell_type": "code",
   "id": "0bdeacdc",
   "metadata": {
    "ExecuteTime": {
     "end_time": "2024-12-18T16:20:38.185690Z",
     "start_time": "2024-12-18T16:20:38.181845Z"
    }
   },
   "source": [],
   "outputs": [],
   "execution_count": null
  }
 ],
 "metadata": {
  "kernelspec": {
   "display_name": "Python 3 (ipykernel)",
   "language": "python",
   "name": "python3"
  },
  "language_info": {
   "codemirror_mode": {
    "name": "ipython",
    "version": 3
   },
   "file_extension": ".py",
   "mimetype": "text/x-python",
   "name": "python",
   "nbconvert_exporter": "python",
   "pygments_lexer": "ipython3",
   "version": "3.11.8"
  }
 },
 "nbformat": 4,
 "nbformat_minor": 5
}
