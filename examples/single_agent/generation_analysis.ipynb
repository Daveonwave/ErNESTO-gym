{
 "cells": [
  {
   "cell_type": "code",
   "execution_count": 1,
   "id": "a50c2a11",
   "metadata": {},
   "outputs": [],
   "source": [
    "import pandas as pd\n",
    "import numpy as np\n",
    "import matplotlib.pyplot as plt\n",
    "import seaborn as sns\n",
    "import os\n",
    "\n",
    "sns.set_style('darkgrid')\n",
    "sns.set(font_scale=1.5)"
   ]
  },
  {
   "cell_type": "code",
   "execution_count": 2,
   "id": "0077bf70",
   "metadata": {},
   "outputs": [],
   "source": [
    "plots_dir = 'plots'\n",
    "os.makedirs(plots_dir, exist_ok=True)\n",
    "\n",
    "def savefig(fig: plt.Figure, filename: str, **kwargs) -> None:\n",
    "    save_path = os.path.join(plots_dir, filename)\n",
    "    fig.savefig(save_path, dpi=300, bbox_inches='tight', **kwargs)"
   ]
  },
  {
   "cell_type": "code",
   "execution_count": 3,
   "id": "47fbd3d2",
   "metadata": {},
   "outputs": [],
   "source": [
    "df = pd.read_csv(\"../../ernestogym/ernesto/data/generation/pv_dataset.csv\")"
   ]
  },
  {
   "cell_type": "code",
   "execution_count": 4,
   "id": "e18cf7b6",
   "metadata": {},
   "outputs": [],
   "source": [
    "df = df.drop(columns=['delta_time'])\n",
    "df['timestamp'] = pd.to_datetime(df['timestamp'])\n",
    "\n",
    "# Data to kWh from Wh\n",
    "df['PV'] /= 1000"
   ]
  },
  {
   "cell_type": "code",
   "execution_count": 5,
   "id": "75eb7c63",
   "metadata": {
    "scrolled": true
   },
   "outputs": [],
   "source": [
    "df"
   ]
  },
  {
   "cell_type": "code",
   "execution_count": 6,
   "id": "edda188e",
   "metadata": {},
   "outputs": [],
   "source": [
    "# Create a Seasonal Dictionary that will map months to seasons\n",
    "season_dict = {11: 'autumn', 12: 'winter', 1: 'winter', 2: 'winter', 3: 'spring', 4: 'spring', 5: 'spring', 6: 'summer', 7: 'summer', \\\n",
    "8: 'summer', 9: 'autumn', 10: 'autumn'}"
   ]
  },
  {
   "cell_type": "code",
   "execution_count": 7,
   "id": "5807790a",
   "metadata": {},
   "outputs": [],
   "source": [
    "df['day'] = df.timestamp.dt.day_of_year\n",
    "df['month'] = df.timestamp.dt.month\n",
    "df['season'] = [season_dict[m] for m in df.month]\n",
    "df"
   ]
  },
  {
   "cell_type": "code",
   "execution_count": 8,
   "id": "83e89b04",
   "metadata": {},
   "outputs": [],
   "source": [
    "df_winter = df[df['season'] == 'winter']\n",
    "df_summer = df[df['season'] == 'summer']"
   ]
  },
  {
   "cell_type": "code",
   "execution_count": 9,
   "id": "184d3b21",
   "metadata": {},
   "outputs": [],
   "source": [
    "df_mean = []\n",
    "df_std = []\n",
    "\n",
    "df_mean.append(df_winter.groupby([df_winter.timestamp.dt.hour]).mean())\n",
    "df_mean.append(df_summer.groupby([df_summer.timestamp.dt.hour]).mean())\n",
    "\n",
    "df_std.append(df_winter.groupby([df_winter.timestamp.dt.hour]).std())\n",
    "df_std.append(df_summer.groupby([df_summer.timestamp.dt.hour]).std())"
   ]
  },
  {
   "cell_type": "code",
   "execution_count": 10,
   "id": "4f52060c",
   "metadata": {},
   "outputs": [],
   "source": [
    "# Plot of DAILY AVERAGE DEMAND in different season of the year\n",
    "col = 'PV'\n",
    "\n",
    "fig, ax = plt.subplots( figsize=(8, 4), tight_layout=True, sharey=True)\n",
    "\n",
    "idx = 0\n",
    "ax.plot(df_mean[idx].index, df_mean[idx][col], label='Winter', color='tab:blue')\n",
    "ax.fill_between(df_mean[idx].index, df_mean[idx][col] - df_std[idx][col], df_mean[idx][col] + df_std[idx][col], color='tab:blue', alpha=0.5)\n",
    "\n",
    "idx = 1\n",
    "ax.plot(df_mean[idx].index, df_mean[idx][col], label='Summer', color='tab:orange')\n",
    "ax.fill_between(df_mean[idx].index, df_mean[idx][col] - df_std[idx][col], df_mean[idx][col] + df_std[idx][col], color='tab:orange', alpha=0.5)\n",
    "\n",
    "ax.set(xlabel='Day Hours', ylabel='Generation (kWh)', xticks=df_mean[idx].index[::3])\n",
    "ax.legend()\n",
    "\n",
    "savefig(fig, filename='winter_summer_generation.pdf')\n",
    "savefig(fig, filename='winter_summer_generation.png')\n"
   ]
  },
  {
   "cell_type": "code",
   "execution_count": 11,
   "id": "2088ca2c",
   "metadata": {},
   "outputs": [],
   "source": [
    "df_weekly_mean = df.groupby([df.timestamp.dt.isocalendar().week]).mean()\n",
    "df_weekly_std = df.groupby([df.timestamp.dt.isocalendar().week]).std()"
   ]
  },
  {
   "cell_type": "code",
   "execution_count": 12,
   "id": "ffea62f6",
   "metadata": {},
   "outputs": [],
   "source": [
    "# Plot of AVERAGE DEMAND during the year\n",
    "col = 'PV'\n",
    "\n",
    "fig, ax = plt.subplots( figsize=(8, 4), tight_layout=True, sharey=True)\n",
    "\n",
    "ax.plot(df_weekly_mean.index, df_weekly_mean[col], label='Avg Profile', color='tab:green')\n",
    "ax.fill_between(list(df_weekly_std.index), df_weekly_mean[col] - df_weekly_std[col],  df_weekly_mean[col] + df_weekly_std[col], color='tab:green', alpha=0.5)\n",
    "\n",
    "ax.set(xlabel='Year Weeks', ylabel='Generation (kWh)', xticks=list(df_weekly_mean.index[::3]))\n",
    "\n",
    "savefig(fig, filename='generation_per_year_week.pdf')\n",
    "savefig(fig, filename='generation_per_year_week.png')\n"
   ]
  },
  {
   "cell_type": "code",
   "execution_count": null,
   "id": "65cacad8",
   "metadata": {},
   "outputs": [],
   "source": []
  },
  {
   "cell_type": "code",
   "execution_count": null,
   "id": "c287bab7",
   "metadata": {},
   "outputs": [],
   "source": []
  },
  {
   "cell_type": "code",
   "execution_count": null,
   "id": "512dde80",
   "metadata": {},
   "outputs": [],
   "source": []
  }
 ],
 "metadata": {
  "kernelspec": {
   "display_name": "Python 3 (ipykernel)",
   "language": "python",
   "name": "python3"
  },
  "language_info": {
   "codemirror_mode": {
    "name": "ipython",
    "version": 3
   },
   "file_extension": ".py",
   "mimetype": "text/x-python",
   "name": "python",
   "nbconvert_exporter": "python",
   "pygments_lexer": "ipython3",
   "version": "3.8.16"
  }
 },
 "nbformat": 4,
 "nbformat_minor": 5
}
